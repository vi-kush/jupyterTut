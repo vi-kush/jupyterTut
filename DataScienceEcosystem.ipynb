{
 "cells": [
  {
   "cell_type": "markdown",
   "id": "97f66fc4-06af-4880-9571-6105dc08973d",
   "metadata": {},
   "source": [
    "# Data Science Tools and Ecosystem"
   ]
  },
  {
   "cell_type": "markdown",
   "id": "8821d459-fa3f-4e70-b115-95be329ffca6",
   "metadata": {},
   "source": [
    "In this notebook, Data Science Tools and Ecosystem are summarized."
   ]
  },
  {
   "cell_type": "markdown",
   "id": "b36ff3f4-1bf1-483a-84a0-015840851c58",
   "metadata": {},
   "source": [
    "**Objectives:**\n",
    "* Learn about various types and categories of tools.\n",
    "* Become familiar with  Open-Source and Cloud-Based tools.\n",
    "* Explore various languages in data science.\n",
    "* Explore packages, APIs, Datasets and Models.\n",
    "\n",
    "List of tools in Data Science Task Categories:\n",
    "* Data Management\n",
    "* Data Integration and Transformation.\n",
    "* Data visualization.\n",
    "* Modeling.\n",
    "\n",
    "List of popular Data Science Languages:\n",
    "* Python\n",
    "* R\n",
    "* SQL\n",
    "* Julia\n",
    "* JavaScript\n",
    "\n",
    "List of Libraries in python:\n",
    "* matplotlib\n",
    "* numpy\n",
    "* pandas\n",
    "* scikit-learn\n",
    "\n",
    "List of Libraries in R:\n",
    "* ggplot2\n",
    "\n"
   ]
  },
  {
   "cell_type": "markdown",
   "id": "7cb7c97a-8477-4f25-b2ad-e75215b7a8a1",
   "metadata": {},
   "source": [
    "Some of the popular languages that Data Scientists use are:\n",
    "1. Python\n",
    "2. R\n",
    "3. Java\n",
    "4. Julia"
   ]
  },
  {
   "cell_type": "markdown",
   "id": "8dde81f4-f845-40d3-a458-b7a03ea243ca",
   "metadata": {},
   "source": [
    "Some of the commonly used libraries used by Data Scientists include:\n",
    "1. Numpy\n",
    "2. Pandas\n",
    "3. Scikit-learn\n",
    "4. Matplotlib\n"
   ]
  },
  {
   "cell_type": "markdown",
   "id": "07a90b15-66ba-48fa-a76f-a2a4a454f679",
   "metadata": {
    "tags": []
   },
   "source": [
    "| Data Science Tools |\n",
    "| :----------------- |\n",
    "| Apache Spark |\n",
    "| Jupyter Notebooks |\n",
    "| IBM DAX |\n",
    "| IBM Watson Studios |"
   ]
  },
  {
   "cell_type": "markdown",
   "id": "fe61a2e6-f38d-43d0-a225-4b691c586c27",
   "metadata": {},
   "source": [
    "### Below are a few examples of evaluating arithmetic expressions in Python"
   ]
  },
  {
   "cell_type": "code",
   "execution_count": 4,
   "id": "f3786cc4-d701-4bb8-8e87-367bf47f0f2e",
   "metadata": {
    "tags": []
   },
   "outputs": [
    {
     "data": {
      "text/plain": [
       "17"
      ]
     },
     "execution_count": 4,
     "metadata": {},
     "output_type": "execute_result"
    }
   ],
   "source": [
    "# This a simple arithmetic expression to mutiply then add integers\n",
    "(3*4)+5"
   ]
  },
  {
   "cell_type": "code",
   "execution_count": 11,
   "id": "a0c2f081-3b0c-4ab3-a768-f1e38f66c44a",
   "metadata": {
    "tags": []
   },
   "outputs": [
    {
     "name": "stdout",
     "output_type": "stream",
     "text": [
      "3.3333333333333335 hours\n"
     ]
    }
   ],
   "source": [
    "# This will convert 200 minutes to hours by diving by 60\n",
    "min = 200\n",
    "hour = min/60\n",
    "print(str(hour)+' hours')"
   ]
  },
  {
   "cell_type": "markdown",
   "id": "8868f947-2094-4731-927c-23c1234ba95b",
   "metadata": {},
   "source": [
    "## Author\n",
    "vipul kumar"
   ]
  }
 ],
 "metadata": {
  "kernelspec": {
   "display_name": "Python",
   "language": "python",
   "name": "conda-env-python-py"
  },
  "language_info": {
   "codemirror_mode": {
    "name": "ipython",
    "version": 3
   },
   "file_extension": ".py",
   "mimetype": "text/x-python",
   "name": "python",
   "nbconvert_exporter": "python",
   "pygments_lexer": "ipython3",
   "version": "3.7.12"
  }
 },
 "nbformat": 4,
 "nbformat_minor": 5
}
